{
 "cells": [
  {
   "cell_type": "code",
   "execution_count": 2,
   "id": "7d9e76b0-805e-4663-90e9-a217e05f9046",
   "metadata": {},
   "outputs": [
    {
     "name": "stdout",
     "output_type": "stream",
     "text": [
      "Using device: cpu\n"
     ]
    }
   ],
   "source": [
    "# Cell 1: Imports and device check\n",
    "\n",
    "import os\n",
    "import h5py\n",
    "import numpy as np\n",
    "import torch\n",
    "import torch.nn as nn\n",
    "import torch.optim as optim\n",
    "from sklearn.model_selection import train_test_split\n",
    "from sklearn.preprocessing import StandardScaler\n",
    "\n",
    "# Check PyTorch device\n",
    "device = torch.device(\"cuda\" if torch.cuda.is_available() else \"cpu\")\n",
    "print(f\"Using device: {device}\")\n"
   ]
  },
  {
   "cell_type": "code",
   "execution_count": 4,
   "id": "a99c15a7-2cc2-476d-88fc-87ba8a7a516c",
   "metadata": {},
   "outputs": [
    {
     "name": "stdout",
     "output_type": "stream",
     "text": [
      "Top‐level keys in HDF5: ['features', 'game_ids', 'q_values']\n",
      "Loaded X.shape = (1753063, 138), y_MC.shape = (1753063,)\n"
     ]
    }
   ],
   "source": [
    "# Cell 2: Load features + Monte Carlo Q-values from .h5\n",
    "\n",
    "h5_path = r\"D:\\SFTP\\Data\\featuresMedium.h5\"\n",
    "\n",
    "with h5py.File(h5_path, \"r\") as f:\n",
    "    # List all top‐level groups/datasets\n",
    "    print(\"Top‐level keys in HDF5:\", list(f.keys()))\n",
    "\n",
    "    # Read entire \"features\" dataset into memory\n",
    "    X = f[\"features\"][:]             # shape = (N_samples, D_features)\n",
    "    y_MC = f[\"q_values\"][:]          # shape = (N_samples,)\n",
    "\n",
    "print(f\"Loaded X.shape = {X.shape}, y_MC.shape = {y_MC.shape}\")\n"
   ]
  },
  {
   "cell_type": "code",
   "execution_count": 5,
   "id": "ebe5dc06-095d-4641-8419-f5790b8b4fe6",
   "metadata": {},
   "outputs": [
    {
     "name": "stdout",
     "output_type": "stream",
     "text": [
      "After split:\n",
      "  X_train.shape = (1402450, 138), y_train.shape = (1402450,)\n",
      "  X_val.shape   = (350613, 138),   y_val.shape   = (350613,)\n",
      "\n",
      "Feature means (first 5 dims before scaling) on training set: [-0.08488645 -0.07769831 -0.07860316 -0.07839067 -0.06409212]\n",
      "Feature std  (first 5 dims before scaling) on training set: [0.68805134 0.54813814 0.552993   0.58522856 0.985578  ]\n",
      "\n",
      "Feature means (first 5 dims) on training set: [ 2.6825912e-06  5.1035668e-06 -2.8754562e-06  2.1174327e-07\n",
      "  8.1256093e-07]\n",
      "Feature std  (first 5 dims) on training set: [0.9950252 0.9952313 0.9954259 0.9965159 0.9983205]\n"
     ]
    }
   ],
   "source": [
    "# Cell 3: Split into train/validation and scale\n",
    "\n",
    "# 1) Train/test split (80/20)\n",
    "X_train, X_val, y_train, y_val = train_test_split(\n",
    "    X, y_MC, test_size=0.20, random_state=42, shuffle=True\n",
    ")\n",
    "\n",
    "print(\"After split:\")\n",
    "print(f\"  X_train.shape = {X_train.shape}, y_train.shape = {y_train.shape}\")\n",
    "print(f\"  X_val.shape   = {X_val.shape},   y_val.shape   = {y_val.shape}\")\n",
    "\n",
    "# 2) (Optional) Standardize features if they aren't already zero‐centered\n",
    "scaler = StandardScaler()\n",
    "X_train_scaled = scaler.fit_transform(X_train)\n",
    "X_val_scaled   = scaler.transform(X_val)\n",
    "\n",
    "\n",
    "# 3) Check a quick stats summary\n",
    "print(\"\\nFeature means (first 5 dims before scaling) on training set:\", X_train[:, :5].mean(axis=0))\n",
    "print(\"Feature std  (first 5 dims before scaling) on training set:\", X_train[:, :5].std(axis=0))\n",
    "\n",
    "# 3) Check a quick stats summary\n",
    "print(\"\\nFeature means (first 5 dims) on training set:\", X_train_scaled[:, :5].mean(axis=0))\n",
    "print(\"Feature std  (first 5 dims) on training set:\", X_train_scaled[:, :5].std(axis=0))\n"
   ]
  },
  {
   "cell_type": "code",
   "execution_count": 6,
   "id": "50de0adf-b24e-4d37-84be-04f339bd0e6e",
   "metadata": {},
   "outputs": [
    {
     "name": "stdout",
     "output_type": "stream",
     "text": [
      "Created train_loader (batches of 512), val_loader likewise.\n"
     ]
    }
   ],
   "source": [
    "# Cell 4: Build PyTorch Dataset + DataLoader\n",
    "\n",
    "from torch.utils.data import TensorDataset, DataLoader\n",
    "\n",
    "# Convert NumPy → torch.Tensor (float32)\n",
    "X_train_t = torch.from_numpy(X_train_scaled).float().to(device)\n",
    "y_train_t = torch.from_numpy(y_train).float().to(device)\n",
    "X_val_t   = torch.from_numpy(X_val_scaled).float().to(device)\n",
    "y_val_t   = torch.from_numpy(y_val).float().to(device)\n",
    "\n",
    "# Create TensorDataset\n",
    "train_dataset = TensorDataset(X_train_t, y_train_t)\n",
    "val_dataset   = TensorDataset(X_val_t, y_val_t)\n",
    "\n",
    "# DataLoader params\n",
    "batch_size = 512\n",
    "\n",
    "train_loader = DataLoader(\n",
    "    train_dataset,\n",
    "    batch_size=batch_size,\n",
    "    shuffle=True,\n",
    "    num_workers=2,      # set to 0 if Windows + Jupyter stall\n",
    "    pin_memory=True if device.type==\"cuda\" else False\n",
    ")\n",
    "\n",
    "val_loader = DataLoader(\n",
    "    val_dataset,\n",
    "    batch_size=batch_size,\n",
    "    shuffle=False,\n",
    "    num_workers=2,\n",
    "    pin_memory=True if device.type==\"cuda\" else False\n",
    ")\n",
    "\n",
    "print(f\"Created train_loader (batches of {batch_size}), val_loader likewise.\")\n"
   ]
  },
  {
   "cell_type": "code",
   "execution_count": 7,
   "id": "bc037d9c-9a0a-4c5c-8ae6-3cd87100858b",
   "metadata": {},
   "outputs": [
    {
     "name": "stdout",
     "output_type": "stream",
     "text": [
      "QNetwork(\n",
      "  (net): Sequential(\n",
      "    (0): Linear(in_features=138, out_features=256, bias=True)\n",
      "    (1): Tanh()\n",
      "    (2): Linear(in_features=256, out_features=128, bias=True)\n",
      "    (3): Tanh()\n",
      "    (4): Linear(in_features=128, out_features=64, bias=True)\n",
      "    (5): Tanh()\n",
      "    (6): Linear(in_features=64, out_features=32, bias=True)\n",
      "    (7): Tanh()\n",
      "    (8): Linear(in_features=32, out_features=16, bias=True)\n",
      "    (9): Tanh()\n",
      "    (10): Linear(in_features=16, out_features=8, bias=True)\n",
      "    (11): Tanh()\n",
      "    (12): Linear(in_features=8, out_features=1, bias=True)\n",
      "    (13): Tanh()\n",
      "  )\n",
      ")\n"
     ]
    }
   ],
   "source": [
    "# Cell 5 (v2): Deeper Q-Network with tanh\n",
    "\n",
    "import torch.nn as nn\n",
    "\n",
    "class QNetwork(nn.Module):\n",
    "    def __init__(self, input_dim: int, hidden_sizes=(256, 128, 64, 32, 16, 8)):\n",
    "        super().__init__()\n",
    "        layers = []\n",
    "        last_dim = input_dim\n",
    "        for h in hidden_sizes:\n",
    "            layers.append(nn.Linear(last_dim, h))\n",
    "            layers.append(nn.Tanh())\n",
    "            last_dim = h\n",
    "        # Final output layer → tanh bounded in [-1,1]\n",
    "        layers.append(nn.Linear(last_dim, 1))\n",
    "        layers.append(nn.Tanh())\n",
    "        self.net = nn.Sequential(*layers)\n",
    "\n",
    "    def forward(self, x):\n",
    "        return self.net(x).squeeze(-1)\n",
    "\n",
    "# Re‐instantiate model\n",
    "input_dim = X_train_t.shape[1]\n",
    "model = QNetwork(input_dim=input_dim, hidden_sizes=(256, 128, 64, 32, 16, 8)).to(device)\n",
    "print(model)\n"
   ]
  },
  {
   "cell_type": "code",
   "execution_count": 8,
   "id": "7b255ce6-f2bf-410c-9194-a54e5b20b96a",
   "metadata": {},
   "outputs": [
    {
     "name": "stdout",
     "output_type": "stream",
     "text": [
      "Learning rate = 0.0005, Number of epochs = 20\n"
     ]
    }
   ],
   "source": [
    "# Cell 6 (v2): Optimizer & loss function (smaller lr)\n",
    "\n",
    "lr = 5e-4      # down from 1e-3 since network is larger\n",
    "num_epochs = 20  # you can still cap at 20 and use early stopping\n",
    "\n",
    "optimizer = optim.Adam(model.parameters(), lr=lr, weight_decay=1e-5)\n",
    "criterion = nn.MSELoss()\n",
    "\n",
    "print(f\"Learning rate = {lr}, Number of epochs = {num_epochs}\")\n"
   ]
  },
  {
   "cell_type": "code",
   "execution_count": 9,
   "id": "b1559ecb-bf96-460d-b2e3-9728f22f9053",
   "metadata": {},
   "outputs": [
    {
     "name": "stdout",
     "output_type": "stream",
     "text": [
      "Epoch 01 | Train Loss: 0.394465 |  Val Loss: 0.377738\n",
      "  → Saved new best model (MC pretrained)\n",
      "Epoch 02 | Train Loss: 0.365932 |  Val Loss: 0.358084\n",
      "  → Saved new best model (MC pretrained)\n",
      "Epoch 03 | Train Loss: 0.353425 |  Val Loss: 0.351917\n",
      "  → Saved new best model (MC pretrained)\n",
      "Epoch 04 | Train Loss: 0.344792 |  Val Loss: 0.351785\n",
      "  → Saved new best model (MC pretrained)\n",
      "Epoch 05 | Train Loss: 0.338311 |  Val Loss: 0.349326\n",
      "  → Saved new best model (MC pretrained)\n",
      "Epoch 06 | Train Loss: 0.332839 |  Val Loss: 0.338984\n",
      "  → Saved new best model (MC pretrained)\n",
      "Epoch 07 | Train Loss: 0.327749 |  Val Loss: 0.338211\n",
      "  → Saved new best model (MC pretrained)\n",
      "Epoch 08 | Train Loss: 0.323538 |  Val Loss: 0.336096\n",
      "  → Saved new best model (MC pretrained)\n",
      "Epoch 09 | Train Loss: 0.319787 |  Val Loss: 0.331689\n",
      "  → Saved new best model (MC pretrained)\n",
      "Epoch 10 | Train Loss: 0.316217 |  Val Loss: 0.329008\n",
      "  → Saved new best model (MC pretrained)\n",
      "Epoch 11 | Train Loss: 0.313155 |  Val Loss: 0.328482\n",
      "  → Saved new best model (MC pretrained)\n",
      "Epoch 12 | Train Loss: 0.310280 |  Val Loss: 0.328596\n",
      "Epoch 13 | Train Loss: 0.307837 |  Val Loss: 0.327125\n",
      "  → Saved new best model (MC pretrained)\n",
      "Epoch 14 | Train Loss: 0.305347 |  Val Loss: 0.324391\n",
      "  → Saved new best model (MC pretrained)\n",
      "Epoch 15 | Train Loss: 0.303432 |  Val Loss: 0.324552\n",
      "Epoch 16 | Train Loss: 0.301219 |  Val Loss: 0.324251\n",
      "  → Saved new best model (MC pretrained)\n",
      "Epoch 17 | Train Loss: 0.299385 |  Val Loss: 0.322731\n",
      "  → Saved new best model (MC pretrained)\n",
      "Epoch 18 | Train Loss: 0.298052 |  Val Loss: 0.323340\n",
      "Epoch 19 | Train Loss: 0.296291 |  Val Loss: 0.323555\n",
      "Epoch 20 | Train Loss: 0.294930 |  Val Loss: 0.321885\n",
      "  → Saved new best model (MC pretrained)\n"
     ]
    }
   ],
   "source": [
    "# Cell 7: MC Pretraining loop\n",
    "\n",
    "best_val_loss = float(\"inf\")\n",
    "\n",
    "for epoch in range(1, num_epochs + 1):\n",
    "    # ---------- Training pass ----------\n",
    "    model.train()\n",
    "    running_train_loss = 0.0\n",
    "    for batch_X, batch_y in train_loader:\n",
    "        optimizer.zero_grad()\n",
    "        # Forward pass: predict Q̂\n",
    "        preds = model(batch_X)             # shape: (batch_size,)\n",
    "        loss = criterion(preds, batch_y)   # MSE against MC targets\n",
    "        loss.backward()\n",
    "        optimizer.step()\n",
    "        running_train_loss += loss.item() * batch_X.size(0)\n",
    "\n",
    "    avg_train_loss = running_train_loss / len(train_loader.dataset)\n",
    "\n",
    "    # ---------- Validation pass ----------\n",
    "    model.eval()\n",
    "    running_val_loss = 0.0\n",
    "    with torch.no_grad():\n",
    "        for batch_X, batch_y in val_loader:\n",
    "            preds = model(batch_X)\n",
    "            loss = criterion(preds, batch_y)\n",
    "            running_val_loss += loss.item() * batch_X.size(0)\n",
    "\n",
    "    avg_val_loss = running_val_loss / len(val_loader.dataset)\n",
    "\n",
    "    print(\n",
    "        f\"Epoch {epoch:02d} | \"\n",
    "        f\"Train Loss: {avg_train_loss:.6f} | \"\n",
    "        f\" Val Loss: {avg_val_loss:.6f}\"\n",
    "    )\n",
    "\n",
    "    # Save best‐performing weights on validation\n",
    "    if avg_val_loss < best_val_loss:\n",
    "        best_val_loss = avg_val_loss\n",
    "        torch.save(model.state_dict(), \"qnet_mc_pretrained.pth\")\n",
    "        print(\"  → Saved new best model (MC pretrained)\")\n"
   ]
  },
  {
   "cell_type": "code",
   "execution_count": 10,
   "id": "c631fbaf-1236-4cf4-8f15-33021b707a90",
   "metadata": {},
   "outputs": [
    {
     "name": "stderr",
     "output_type": "stream",
     "text": [
      "C:\\Users\\Owner\\AppData\\Local\\Temp\\ipykernel_1628\\799107061.py:6: FutureWarning: You are using `torch.load` with `weights_only=False` (the current default value), which uses the default pickle module implicitly. It is possible to construct malicious pickle data which will execute arbitrary code during unpickling (See https://github.com/pytorch/pytorch/blob/main/SECURITY.md#untrusted-models for more details). In a future release, the default value for `weights_only` will be flipped to `True`. This limits the functions that could be executed during unpickling. Arbitrary objects will no longer be allowed to be loaded via this mode unless they are explicitly allowlisted by the user via `torch.serialization.add_safe_globals`. We recommend you start setting `weights_only=True` for any use case where you don't have full control of the loaded file. Please open an issue on GitHub for any issues related to this experimental feature.\n",
      "  model.load_state_dict(torch.load(\"qnet_mc_pretrained.pth\"))\n"
     ]
    },
    {
     "data": {
      "image/png": "[encoded data removed]",
      "text/plain": [
       "<Figure size 500x500 with 1 Axes>"
      ]
     },
     "metadata": {},
     "output_type": "display_data"
    }
   ],
   "source": [
    "# Cell 8: Plot predicted vs. true MC targets for a sample of the validation set\n",
    "\n",
    "import matplotlib.pyplot as plt\n",
    "\n",
    "# 1) Reload best MC‐pretrained weights\n",
    "model.load_state_dict(torch.load(\"qnet_mc_pretrained.pth\"))\n",
    "model.eval()\n",
    "\n",
    "# 2) Gather all predictions on the val set\n",
    "all_preds = []\n",
    "all_targets = []\n",
    "with torch.no_grad():\n",
    "    for batch_X, batch_y in val_loader:\n",
    "        pred_vals = model(batch_X).cpu().numpy()\n",
    "        all_preds.append(pred_vals)\n",
    "        all_targets.append(batch_y.cpu().numpy())\n",
    "\n",
    "all_preds = np.concatenate(all_preds)\n",
    "all_targets = np.concatenate(all_targets)\n",
    "\n",
    "# 3) Plot the first 1,000 points\n",
    "n_plot = min(1000, len(all_preds))\n",
    "plt.figure(figsize=(5,5))\n",
    "plt.scatter(\n",
    "    all_targets[:n_plot],\n",
    "    all_preds[:n_plot],\n",
    "    s=3, alpha=0.4, color=\"tab:blue\"\n",
    ")\n",
    "plt.plot([all_targets.min(), all_targets.max()],\n",
    "         [all_targets.min(), all_targets.max()],\n",
    "         color=\"black\", linestyle=\"--\", linewidth=1)\n",
    "plt.xlabel(\"MC Target Q\")\n",
    "plt.ylabel(\"Predicted Q̂\")\n",
    "plt.title(\"MC Pretraining: Validation Set (first 1,000 samples)\")\n",
    "plt.tight_layout()\n",
    "plt.show()\n"
   ]
  },
  {
   "cell_type": "code",
   "execution_count": null,
   "id": "df9e5bf9-aa3d-4e9b-9bb4-7163bcea2bc9",
   "metadata": {},
   "outputs": [],
   "source": []
  }
 ],
 "metadata": {
  "kernelspec": {
   "display_name": "Python 3 (ipykernel)",
   "language": "python",
   "name": "python3"
  },
  "language_info": {
   "codemirror_mode": {
    "name": "ipython",
    "version": 3
   },
   "file_extension": ".py",
   "mimetype": "text/x-python",
   "name": "python",
   "nbconvert_exporter": "python",
   "pygments_lexer": "ipython3",
   "version": "3.9.23"
  }
 },
 "nbformat": 4,
 "nbformat_minor": 5
}
