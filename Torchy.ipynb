{
 "cells": [
  {
   "cell_type": "code",
   "execution_count": 2,
   "id": "7d9e76b0-805e-4663-90e9-a217e05f9046",
   "metadata": {},
   "outputs": [
    {
     "name": "stdout",
     "output_type": "stream",
     "text": [
      "Using device: cpu\n"
     ]
    }
   ],
   "source": [
    "# Cell 1: Imports and device check\n",
    "\n",
    "import os\n",
    "import h5py\n",
    "import numpy as np\n",
    "import torch\n",
    "import torch.nn as nn\n",
    "import torch.optim as optim\n",
    "from sklearn.model_selection import train_test_split\n",
    "from sklearn.preprocessing import StandardScaler\n",
    "\n",
    "# Check PyTorch device\n",
    "device = torch.device(\"cuda\" if torch.cuda.is_available() else \"cpu\")\n",
    "print(f\"Using device: {device}\")\n"
   ]
  },
  {
   "cell_type": "code",
   "execution_count": 3,
   "id": "a99c15a7-2cc2-476d-88fc-87ba8a7a516c",
   "metadata": {},
   "outputs": [
    {
     "name": "stdout",
     "output_type": "stream",
     "text": [
      "Top‐level keys in HDF5: ['features', 'game_ids', 'q_values']\n",
      "Loaded X.shape = (1753063, 138), y_MC.shape = (1753063,)\n"
     ]
    }
   ],
   "source": [
    "# Cell 2: Load features + Monte Carlo Q-values from .h5\n",
    "\n",
    "h5_path = r\"D:\\data\\temp\\LMC01\\ftw\\featuresMedium.h5\"\n",
    "\n",
    "with h5py.File(h5_path, \"r\") as f:\n",
    "    # List all top‐level groups/datasets\n",
    "    print(\"Top‐level keys in HDF5:\", list(f.keys()))\n",
    "\n",
    "    # Read entire \"features\" dataset into memory\n",
    "    X = f[\"features\"][:]             # shape = (N_samples, D_features)\n",
    "    y_MC = f[\"q_values\"][:]          # shape = (N_samples,)\n",
    "\n",
    "print(f\"Loaded X.shape = {X.shape}, y_MC.shape = {y_MC.shape}\")\n"
   ]
  },
  {
   "cell_type": "code",
   "execution_count": 5,
   "id": "ebe5dc06-095d-4641-8419-f5790b8b4fe6",
   "metadata": {},
   "outputs": [
    {
     "name": "stdout",
     "output_type": "stream",
     "text": [
      "After split:\n",
      "  X_train.shape = (1402450, 138), y_train.shape = (1402450,)\n",
      "  X_val.shape   = (350613, 138),   y_val.shape   = (350613,)\n",
      "\n",
      "Feature means (first 5 dims before scaling) on training set: [-0.08488645 -0.07769831 -0.07860316 -0.07839067 -0.06409212]\n",
      "Feature std  (first 5 dims before scaling) on training set: [0.68805134 0.54813814 0.552993   0.58522856 0.985578  ]\n",
      "\n",
      "Feature means (first 5 dims) on training set: [ 2.6825912e-06  5.1035668e-06 -2.8754562e-06  2.1174327e-07\n",
      "  8.1256093e-07]\n",
      "Feature std  (first 5 dims) on training set: [0.9950252 0.9952313 0.9954259 0.9965159 0.9983205]\n"
     ]
    }
   ],
   "source": [
    "# Cell 3: Split into train/validation and scale\n",
    "\n",
    "# 1) Train/test split (80/20)\n",
    "X_train, X_val, y_train, y_val = train_test_split(\n",
    "    X, y_MC, test_size=0.20, random_state=42, shuffle=True\n",
    ")\n",
    "\n",
    "print(\"After split:\")\n",
    "print(f\"  X_train.shape = {X_train.shape}, y_train.shape = {y_train.shape}\")\n",
    "print(f\"  X_val.shape   = {X_val.shape},   y_val.shape   = {y_val.shape}\")\n",
    "\n",
    "# 2) (Optional) Standardize features if they aren't already zero‐centered\n",
    "scaler = StandardScaler()\n",
    "X_train_scaled = scaler.fit_transform(X_train)\n",
    "X_val_scaled   = scaler.transform(X_val)\n",
    "\n",
    "\n",
    "# 3) Check a quick stats summary\n",
    "print(\"\\nFeature means (first 5 dims before scaling) on training set:\", X_train[:, :5].mean(axis=0))\n",
    "print(\"Feature std  (first 5 dims before scaling) on training set:\", X_train[:, :5].std(axis=0))\n",
    "\n",
    "# 3) Check a quick stats summary\n",
    "print(\"\\nFeature means (first 5 dims) on training set:\", X_train_scaled[:, :5].mean(axis=0))\n",
    "print(\"Feature std  (first 5 dims) on training set:\", X_train_scaled[:, :5].std(axis=0))\n"
   ]
  },
  {
   "cell_type": "code",
   "execution_count": 6,
   "id": "50de0adf-b24e-4d37-84be-04f339bd0e6e",
   "metadata": {},
   "outputs": [
    {
     "name": "stdout",
     "output_type": "stream",
     "text": [
      "Created train_loader (batches of 512), val_loader likewise.\n"
     ]
    }
   ],
   "source": [
    "# Cell 4: Build PyTorch Dataset + DataLoader\n",
    "\n",
    "from torch.utils.data import TensorDataset, DataLoader\n",
    "\n",
    "# Convert NumPy → torch.Tensor (float32)\n",
    "X_train_t = torch.from_numpy(X_train_scaled).float().to(device)\n",
    "y_train_t = torch.from_numpy(y_train).float().to(device)\n",
    "X_val_t   = torch.from_numpy(X_val_scaled).float().to(device)\n",
    "y_val_t   = torch.from_numpy(y_val).float().to(device)\n",
    "\n",
    "# Create TensorDataset\n",
    "train_dataset = TensorDataset(X_train_t, y_train_t)\n",
    "val_dataset   = TensorDataset(X_val_t, y_val_t)\n",
    "\n",
    "# DataLoader params\n",
    "batch_size = 512\n",
    "\n",
    "train_loader = DataLoader(\n",
    "    train_dataset,\n",
    "    batch_size=batch_size,\n",
    "    shuffle=True,\n",
    "    num_workers=2,      # set to 0 if Windows + Jupyter stall\n",
    "    pin_memory=True if device.type==\"cuda\" else False\n",
    ")\n",
    "\n",
    "val_loader = DataLoader(\n",
    "    val_dataset,\n",
    "    batch_size=batch_size,\n",
    "    shuffle=False,\n",
    "    num_workers=2,\n",
    "    pin_memory=True if device.type==\"cuda\" else False\n",
    ")\n",
    "\n",
    "print(f\"Created train_loader (batches of {batch_size}), val_loader likewise.\")\n"
   ]
  },
  {
   "cell_type": "code",
   "execution_count": 17,
   "id": "bc037d9c-9a0a-4c5c-8ae6-3cd87100858b",
   "metadata": {},
   "outputs": [
    {
     "name": "stdout",
     "output_type": "stream",
     "text": [
      "QNetwork(\n",
      "  (net): Sequential(\n",
      "    (0): Linear(in_features=138, out_features=256, bias=True)\n",
      "    (1): Tanh()\n",
      "    (2): Linear(in_features=256, out_features=128, bias=True)\n",
      "    (3): Tanh()\n",
      "    (4): Linear(in_features=128, out_features=64, bias=True)\n",
      "    (5): Tanh()\n",
      "    (6): Linear(in_features=64, out_features=32, bias=True)\n",
      "    (7): Tanh()\n",
      "    (8): Linear(in_features=32, out_features=16, bias=True)\n",
      "    (9): Tanh()\n",
      "    (10): Linear(in_features=16, out_features=8, bias=True)\n",
      "    (11): Tanh()\n",
      "    (12): Linear(in_features=8, out_features=1, bias=True)\n",
      "    (13): Tanh()\n",
      "  )\n",
      ")\n"
     ]
    }
   ],
   "source": [
    "# Cell 5 (v2): Deeper Q-Network with tanh\n",
    "\n",
    "import torch.nn as nn\n",
    "\n",
    "class QNetwork(nn.Module):\n",
    "    def __init__(self, input_dim: int, hidden_sizes=(256, 128, 64, 32, 16, 8)):\n",
    "        super().__init__()\n",
    "        layers = []\n",
    "        last_dim = input_dim\n",
    "        for h in hidden_sizes:\n",
    "            layers.append(nn.Linear(last_dim, h))\n",
    "            layers.append(nn.Tanh())\n",
    "            last_dim = h\n",
    "        # Final output layer → tanh bounded in [-1,1]\n",
    "        layers.append(nn.Linear(last_dim, 1))\n",
    "        layers.append(nn.Tanh())\n",
    "        self.net = nn.Sequential(*layers)\n",
    "\n",
    "    def forward(self, x):\n",
    "        return self.net(x).squeeze(-1)\n",
    "\n",
    "# Re‐instantiate model\n",
    "input_dim = X_train_t.shape[1]\n",
    "model = QNetwork(input_dim=input_dim, hidden_sizes=(256, 128, 64, 32, 16, 8)).to(device)\n",
    "print(model)\n"
   ]
  },
  {
   "cell_type": "code",
   "execution_count": 21,
   "id": "7b255ce6-f2bf-410c-9194-a54e5b20b96a",
   "metadata": {},
   "outputs": [
    {
     "name": "stdout",
     "output_type": "stream",
     "text": [
      "Learning rate = 0.0005, Number of epochs = 200\n"
     ]
    }
   ],
   "source": [
    "# Cell 6 (v2): Optimizer & loss function (smaller lr)\n",
    "\n",
    "lr = 5e-4      # down from 1e-3 since network is larger\n",
    "num_epochs = 200  # you can still cap at 20 and use early stopping\n",
    "\n",
    "optimizer = optim.Adam(model.parameters(), lr=lr, weight_decay=1e-5)\n",
    "criterion = nn.MSELoss()\n",
    "\n",
    "print(f\"Learning rate = {lr}, Number of epochs = {num_epochs}\")\n"
   ]
  },
  {
   "cell_type": "code",
   "execution_count": 22,
   "id": "b1559ecb-bf96-460d-b2e3-9728f22f9053",
   "metadata": {},
   "outputs": [
    {
     "name": "stdout",
     "output_type": "stream",
     "text": [
      "Epoch 01 | Train Loss: 0.295946 |  Val Loss: 0.323548\n",
      "  → Saved new best model (MC pretrained)\n",
      "Epoch 02 | Train Loss: 0.294526 |  Val Loss: 0.322912\n",
      "  → Saved new best model (MC pretrained)\n",
      "Epoch 03 | Train Loss: 0.293237 |  Val Loss: 0.324519\n",
      "Epoch 04 | Train Loss: 0.292247 |  Val Loss: 0.324372\n",
      "Epoch 05 | Train Loss: 0.291114 |  Val Loss: 0.322723\n",
      "  → Saved new best model (MC pretrained)\n",
      "Epoch 06 | Train Loss: 0.290220 |  Val Loss: 0.322295\n",
      "  → Saved new best model (MC pretrained)\n",
      "Epoch 07 | Train Loss: 0.289157 |  Val Loss: 0.323535\n",
      "Epoch 08 | Train Loss: 0.288341 |  Val Loss: 0.322191\n",
      "  → Saved new best model (MC pretrained)\n",
      "Epoch 09 | Train Loss: 0.287274 |  Val Loss: 0.323494\n",
      "Epoch 10 | Train Loss: 0.286726 |  Val Loss: 0.322181\n",
      "  → Saved new best model (MC pretrained)\n",
      "Epoch 11 | Train Loss: 0.285698 |  Val Loss: 0.322185\n",
      "Epoch 12 | Train Loss: 0.284869 |  Val Loss: 0.321935\n",
      "  → Saved new best model (MC pretrained)\n",
      "Epoch 13 | Train Loss: 0.284398 |  Val Loss: 0.321085\n",
      "  → Saved new best model (MC pretrained)\n",
      "Epoch 14 | Train Loss: 0.283787 |  Val Loss: 0.321848\n",
      "Epoch 15 | Train Loss: 0.283134 |  Val Loss: 0.323191\n",
      "Epoch 16 | Train Loss: 0.282372 |  Val Loss: 0.323257\n",
      "Epoch 17 | Train Loss: 0.281767 |  Val Loss: 0.322103\n",
      "Epoch 18 | Train Loss: 0.281336 |  Val Loss: 0.321815\n",
      "Epoch 19 | Train Loss: 0.280685 |  Val Loss: 0.324387\n",
      "Epoch 20 | Train Loss: 0.280151 |  Val Loss: 0.321838\n",
      "Epoch 21 | Train Loss: 0.279601 |  Val Loss: 0.321877\n",
      "Epoch 22 | Train Loss: 0.279153 |  Val Loss: 0.322168\n",
      "Epoch 23 | Train Loss: 0.278804 |  Val Loss: 0.321388\n",
      "Epoch 24 | Train Loss: 0.278353 |  Val Loss: 0.323444\n",
      "Epoch 25 | Train Loss: 0.277791 |  Val Loss: 0.322482\n",
      "Epoch 26 | Train Loss: 0.277388 |  Val Loss: 0.324654\n",
      "Epoch 27 | Train Loss: 0.277014 |  Val Loss: 0.322663\n",
      "Epoch 28 | Train Loss: 0.276573 |  Val Loss: 0.321882\n",
      "Epoch 29 | Train Loss: 0.276148 |  Val Loss: 0.324078\n",
      "Epoch 30 | Train Loss: 0.275990 |  Val Loss: 0.323099\n",
      "Epoch 31 | Train Loss: 0.275584 |  Val Loss: 0.324036\n",
      "Epoch 32 | Train Loss: 0.275175 |  Val Loss: 0.322724\n",
      "Epoch 33 | Train Loss: 0.275047 |  Val Loss: 0.324229\n",
      "Epoch 34 | Train Loss: 0.274582 |  Val Loss: 0.323459\n",
      "Epoch 35 | Train Loss: 0.274139 |  Val Loss: 0.323218\n",
      "Epoch 36 | Train Loss: 0.273859 |  Val Loss: 0.323765\n",
      "Epoch 37 | Train Loss: 0.273627 |  Val Loss: 0.324361\n",
      "Epoch 38 | Train Loss: 0.273439 |  Val Loss: 0.322876\n",
      "Epoch 39 | Train Loss: 0.272996 |  Val Loss: 0.323123\n",
      "Epoch 40 | Train Loss: 0.272781 |  Val Loss: 0.323086\n",
      "Epoch 41 | Train Loss: 0.272407 |  Val Loss: 0.322453\n",
      "Epoch 42 | Train Loss: 0.272308 |  Val Loss: 0.323587\n",
      "Epoch 43 | Train Loss: 0.271997 |  Val Loss: 0.323665\n",
      "Epoch 44 | Train Loss: 0.271824 |  Val Loss: 0.324165\n",
      "Epoch 45 | Train Loss: 0.271518 |  Val Loss: 0.323623\n",
      "Epoch 46 | Train Loss: 0.271535 |  Val Loss: 0.323506\n",
      "Epoch 47 | Train Loss: 0.271124 |  Val Loss: 0.322902\n",
      "Epoch 48 | Train Loss: 0.270824 |  Val Loss: 0.324413\n",
      "Epoch 49 | Train Loss: 0.270797 |  Val Loss: 0.323207\n",
      "Epoch 50 | Train Loss: 0.270289 |  Val Loss: 0.324462\n",
      "Epoch 51 | Train Loss: 0.270517 |  Val Loss: 0.324330\n",
      "Epoch 52 | Train Loss: 0.270041 |  Val Loss: 0.324708\n"
     ]
    },
    {
     "ename": "KeyboardInterrupt",
     "evalue": "",
     "output_type": "error",
     "traceback": [
      "\u001b[1;31m---------------------------------------------------------------------------\u001b[0m",
      "\u001b[1;31mKeyboardInterrupt\u001b[0m                         Traceback (most recent call last)",
      "Cell \u001b[1;32mIn[22], line 14\u001b[0m\n\u001b[0;32m     12\u001b[0m preds \u001b[38;5;241m=\u001b[39m model(batch_X)             \u001b[38;5;66;03m# shape: (batch_size,)\u001b[39;00m\n\u001b[0;32m     13\u001b[0m loss \u001b[38;5;241m=\u001b[39m criterion(preds, batch_y)   \u001b[38;5;66;03m# MSE against MC targets\u001b[39;00m\n\u001b[1;32m---> 14\u001b[0m \u001b[43mloss\u001b[49m\u001b[38;5;241;43m.\u001b[39;49m\u001b[43mbackward\u001b[49m\u001b[43m(\u001b[49m\u001b[43m)\u001b[49m\n\u001b[0;32m     15\u001b[0m optimizer\u001b[38;5;241m.\u001b[39mstep()\n\u001b[0;32m     16\u001b[0m running_train_loss \u001b[38;5;241m+\u001b[39m\u001b[38;5;241m=\u001b[39m loss\u001b[38;5;241m.\u001b[39mitem() \u001b[38;5;241m*\u001b[39m batch_X\u001b[38;5;241m.\u001b[39msize(\u001b[38;5;241m0\u001b[39m)\n",
      "File \u001b[1;32m~\\miniconda3\\envs\\torch_1\\lib\\site-packages\\torch\\_tensor.py:581\u001b[0m, in \u001b[0;36mTensor.backward\u001b[1;34m(self, gradient, retain_graph, create_graph, inputs)\u001b[0m\n\u001b[0;32m    571\u001b[0m \u001b[38;5;28;01mif\u001b[39;00m has_torch_function_unary(\u001b[38;5;28mself\u001b[39m):\n\u001b[0;32m    572\u001b[0m     \u001b[38;5;28;01mreturn\u001b[39;00m handle_torch_function(\n\u001b[0;32m    573\u001b[0m         Tensor\u001b[38;5;241m.\u001b[39mbackward,\n\u001b[0;32m    574\u001b[0m         (\u001b[38;5;28mself\u001b[39m,),\n\u001b[1;32m   (...)\u001b[0m\n\u001b[0;32m    579\u001b[0m         inputs\u001b[38;5;241m=\u001b[39minputs,\n\u001b[0;32m    580\u001b[0m     )\n\u001b[1;32m--> 581\u001b[0m \u001b[43mtorch\u001b[49m\u001b[38;5;241;43m.\u001b[39;49m\u001b[43mautograd\u001b[49m\u001b[38;5;241;43m.\u001b[39;49m\u001b[43mbackward\u001b[49m\u001b[43m(\u001b[49m\n\u001b[0;32m    582\u001b[0m \u001b[43m    \u001b[49m\u001b[38;5;28;43mself\u001b[39;49m\u001b[43m,\u001b[49m\u001b[43m \u001b[49m\u001b[43mgradient\u001b[49m\u001b[43m,\u001b[49m\u001b[43m \u001b[49m\u001b[43mretain_graph\u001b[49m\u001b[43m,\u001b[49m\u001b[43m \u001b[49m\u001b[43mcreate_graph\u001b[49m\u001b[43m,\u001b[49m\u001b[43m \u001b[49m\u001b[43minputs\u001b[49m\u001b[38;5;241;43m=\u001b[39;49m\u001b[43minputs\u001b[49m\n\u001b[0;32m    583\u001b[0m \u001b[43m\u001b[49m\u001b[43m)\u001b[49m\n",
      "File \u001b[1;32m~\\miniconda3\\envs\\torch_1\\lib\\site-packages\\torch\\autograd\\__init__.py:347\u001b[0m, in \u001b[0;36mbackward\u001b[1;34m(tensors, grad_tensors, retain_graph, create_graph, grad_variables, inputs)\u001b[0m\n\u001b[0;32m    342\u001b[0m     retain_graph \u001b[38;5;241m=\u001b[39m create_graph\n\u001b[0;32m    344\u001b[0m \u001b[38;5;66;03m# The reason we repeat the same comment below is that\u001b[39;00m\n\u001b[0;32m    345\u001b[0m \u001b[38;5;66;03m# some Python versions print out the first line of a multi-line function\u001b[39;00m\n\u001b[0;32m    346\u001b[0m \u001b[38;5;66;03m# calls in the traceback and some print out the last line\u001b[39;00m\n\u001b[1;32m--> 347\u001b[0m \u001b[43m_engine_run_backward\u001b[49m\u001b[43m(\u001b[49m\n\u001b[0;32m    348\u001b[0m \u001b[43m    \u001b[49m\u001b[43mtensors\u001b[49m\u001b[43m,\u001b[49m\n\u001b[0;32m    349\u001b[0m \u001b[43m    \u001b[49m\u001b[43mgrad_tensors_\u001b[49m\u001b[43m,\u001b[49m\n\u001b[0;32m    350\u001b[0m \u001b[43m    \u001b[49m\u001b[43mretain_graph\u001b[49m\u001b[43m,\u001b[49m\n\u001b[0;32m    351\u001b[0m \u001b[43m    \u001b[49m\u001b[43mcreate_graph\u001b[49m\u001b[43m,\u001b[49m\n\u001b[0;32m    352\u001b[0m \u001b[43m    \u001b[49m\u001b[43minputs\u001b[49m\u001b[43m,\u001b[49m\n\u001b[0;32m    353\u001b[0m \u001b[43m    \u001b[49m\u001b[43mallow_unreachable\u001b[49m\u001b[38;5;241;43m=\u001b[39;49m\u001b[38;5;28;43;01mTrue\u001b[39;49;00m\u001b[43m,\u001b[49m\n\u001b[0;32m    354\u001b[0m \u001b[43m    \u001b[49m\u001b[43maccumulate_grad\u001b[49m\u001b[38;5;241;43m=\u001b[39;49m\u001b[38;5;28;43;01mTrue\u001b[39;49;00m\u001b[43m,\u001b[49m\n\u001b[0;32m    355\u001b[0m \u001b[43m\u001b[49m\u001b[43m)\u001b[49m\n",
      "File \u001b[1;32m~\\miniconda3\\envs\\torch_1\\lib\\site-packages\\torch\\autograd\\graph.py:825\u001b[0m, in \u001b[0;36m_engine_run_backward\u001b[1;34m(t_outputs, *args, **kwargs)\u001b[0m\n\u001b[0;32m    823\u001b[0m     unregister_hooks \u001b[38;5;241m=\u001b[39m _register_logging_hooks_on_whole_graph(t_outputs)\n\u001b[0;32m    824\u001b[0m \u001b[38;5;28;01mtry\u001b[39;00m:\n\u001b[1;32m--> 825\u001b[0m     \u001b[38;5;28;01mreturn\u001b[39;00m Variable\u001b[38;5;241m.\u001b[39m_execution_engine\u001b[38;5;241m.\u001b[39mrun_backward(  \u001b[38;5;66;03m# Calls into the C++ engine to run the backward pass\u001b[39;00m\n\u001b[0;32m    826\u001b[0m         t_outputs, \u001b[38;5;241m*\u001b[39margs, \u001b[38;5;241m*\u001b[39m\u001b[38;5;241m*\u001b[39mkwargs\n\u001b[0;32m    827\u001b[0m     )  \u001b[38;5;66;03m# Calls into the C++ engine to run the backward pass\u001b[39;00m\n\u001b[0;32m    828\u001b[0m \u001b[38;5;28;01mfinally\u001b[39;00m:\n\u001b[0;32m    829\u001b[0m     \u001b[38;5;28;01mif\u001b[39;00m attach_logging_hooks:\n",
      "\u001b[1;31mKeyboardInterrupt\u001b[0m: "
     ]
    }
   ],
   "source": [
    "# Cell 7: MC Pretraining loop\n",
    "\n",
    "best_val_loss = float(\"inf\")\n",
    "\n",
    "for epoch in range(1, num_epochs + 1):\n",
    "    # ---------- Training pass ----------\n",
    "    model.train()\n",
    "    running_train_loss = 0.0\n",
    "    for batch_X, batch_y in train_loader:\n",
    "        optimizer.zero_grad()\n",
    "        # Forward pass: predict Q̂\n",
    "        preds = model(batch_X)             # shape: (batch_size,)\n",
    "        loss = criterion(preds, batch_y)   # MSE against MC targets\n",
    "        loss.backward()\n",
    "        optimizer.step()\n",
    "        running_train_loss += loss.item() * batch_X.size(0)\n",
    "\n",
    "    avg_train_loss = running_train_loss / len(train_loader.dataset)\n",
    "\n",
    "    # ---------- Validation pass ----------\n",
    "    model.eval()\n",
    "    running_val_loss = 0.0\n",
    "    with torch.no_grad():\n",
    "        for batch_X, batch_y in val_loader:\n",
    "            preds = model(batch_X)\n",
    "            loss = criterion(preds, batch_y)\n",
    "            running_val_loss += loss.item() * batch_X.size(0)\n",
    "\n",
    "    avg_val_loss = running_val_loss / len(val_loader.dataset)\n",
    "\n",
    "    print(\n",
    "        f\"Epoch {epoch:02d} | \"\n",
    "        f\"Train Loss: {avg_train_loss:.6f} | \"\n",
    "        f\" Val Loss: {avg_val_loss:.6f}\"\n",
    "    )\n",
    "\n",
    "    # Save best‐performing weights on validation\n",
    "    if avg_val_loss < best_val_loss:\n",
    "        best_val_loss = avg_val_loss\n",
    "        torch.save(model.state_dict(), \"qnet_mc_pretrained.pth\")\n",
    "        print(\"  → Saved new best model (MC pretrained)\")\n"
   ]
  },
  {
   "cell_type": "code",
   "execution_count": 20,
   "id": "c631fbaf-1236-4cf4-8f15-33021b707a90",
   "metadata": {},
   "outputs": [
    {
     "name": "stderr",
     "output_type": "stream",
     "text": [
      "C:\\Users\\Owner\\AppData\\Local\\Temp\\ipykernel_17356\\799107061.py:6: FutureWarning: You are using `torch.load` with `weights_only=False` (the current default value), which uses the default pickle module implicitly. It is possible to construct malicious pickle data which will execute arbitrary code during unpickling (See https://github.com/pytorch/pytorch/blob/main/SECURITY.md#untrusted-models for more details). In a future release, the default value for `weights_only` will be flipped to `True`. This limits the functions that could be executed during unpickling. Arbitrary objects will no longer be allowed to be loaded via this mode unless they are explicitly allowlisted by the user via `torch.serialization.add_safe_globals`. We recommend you start setting `weights_only=True` for any use case where you don't have full control of the loaded file. Please open an issue on GitHub for any issues related to this experimental feature.\n",
      "  model.load_state_dict(torch.load(\"qnet_mc_pretrained.pth\"))\n"
     ]
    },
    {
     "data": {
      "image/png": "[encoded data removed]",
      "text/plain": [
       "<Figure size 500x500 with 1 Axes>"
      ]
     },
     "metadata": {},
     "output_type": "display_data"
    }
   ],
   "source": [
    "# Cell 8: Plot predicted vs. true MC targets for a sample of the validation set\n",
    "\n",
    "import matplotlib.pyplot as plt\n",
    "\n",
    "# 1) Reload best MC‐pretrained weights\n",
    "model.load_state_dict(torch.load(\"qnet_mc_pretrained.pth\"))\n",
    "model.eval()\n",
    "\n",
    "# 2) Gather all predictions on the val set\n",
    "all_preds = []\n",
    "all_targets = []\n",
    "with torch.no_grad():\n",
    "    for batch_X, batch_y in val_loader:\n",
    "        pred_vals = model(batch_X).cpu().numpy()\n",
    "        all_preds.append(pred_vals)\n",
    "        all_targets.append(batch_y.cpu().numpy())\n",
    "\n",
    "all_preds = np.concatenate(all_preds)\n",
    "all_targets = np.concatenate(all_targets)\n",
    "\n",
    "# 3) Plot the first 1,000 points\n",
    "n_plot = min(1000, len(all_preds))\n",
    "plt.figure(figsize=(5,5))\n",
    "plt.scatter(\n",
    "    all_targets[:n_plot],\n",
    "    all_preds[:n_plot],\n",
    "    s=3, alpha=0.4, color=\"tab:blue\"\n",
    ")\n",
    "plt.plot([all_targets.min(), all_targets.max()],\n",
    "         [all_targets.min(), all_targets.max()],\n",
    "         color=\"black\", linestyle=\"--\", linewidth=1)\n",
    "plt.xlabel(\"MC Target Q\")\n",
    "plt.ylabel(\"Predicted Q̂\")\n",
    "plt.title(\"MC Pretraining: Validation Set (first 1,000 samples)\")\n",
    "plt.tight_layout()\n",
    "plt.show()\n"
   ]
  },
  {
   "cell_type": "code",
   "execution_count": null,
   "id": "df9e5bf9-aa3d-4e9b-9bb4-7163bcea2bc9",
   "metadata": {},
   "outputs": [],
   "source": []
  }
 ],
 "metadata": {
  "kernelspec": {
   "display_name": "Python 3 (ipykernel)",
   "language": "python",
   "name": "python3"
  },
  "language_info": {
   "codemirror_mode": {
    "name": "ipython",
    "version": 3
   },
   "file_extension": ".py",
   "mimetype": "text/x-python",
   "name": "python",
   "nbconvert_exporter": "python",
   "pygments_lexer": "ipython3",
   "version": "3.9.23"
  }
 },
 "nbformat": 4,
 "nbformat_minor": 5
}
