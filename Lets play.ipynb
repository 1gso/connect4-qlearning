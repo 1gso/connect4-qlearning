{
 "cells": [
  {
   "cell_type": "markdown",
   "metadata": {},
   "source": [
    "# Connect 4 vs Q-Network (PyCharm Version)\n",
    "No input() calls - designed for PyCharm notebooks"
   ]
  },
  {
   "cell_type": "code",
   "metadata": {},
   "source": [
    "import torch\n",
    "import torch.nn as nn\n",
    "import numpy as np\n",
    "from board_processor import BoardProcessor\n",
    "from feature_generator import FeatureGenerator"
   ],
   "outputs": [],
   "execution_count": null
  },
  {
   "cell_type": "code",
   "metadata": {},
   "source": [
    "class QNetwork(nn.Module):\n",
    "    def __init__(self, input_dim, hidden_sizes=(256, 128, 64, 32, 16, 8)):\n",
    "        super().__init__()\n",
    "        layers = []\n",
    "        last_dim = input_dim\n",
    "        for h in hidden_sizes:\n",
    "            layers.append(nn.Linear(last_dim, h))\n",
    "            layers.append(nn.Tanh())\n",
    "            last_dim = h\n",
    "        layers.append(nn.Linear(last_dim, 1))\n",
    "        layers.append(nn.Tanh())\n",
    "        self.net = nn.Sequential(*layers)\n",
    "    \n",
    "    def forward(self, x):\n",
    "        return self.net(x).squeeze(-1)"
   ],
   "outputs": [],
   "execution_count": null
  },
  {
   "cell_type": "code",
   "metadata": {},
   "source": [
    "# Load model\n",
    "MODEL_PATH = \"qnet_mc_pretrained.pth\"\n",
    "feature_gen = FeatureGenerator()\n",
    "\n",
    "# Calculate dimensions\n",
    "_, dummy_features = feature_gen.convolution_feature_gen([[] for _ in range(7)])\n",
    "FEATURE_DIM = len(dummy_features) * 2  # State-action pairs\n",
    "\n",
    "print(f\"Single state: {len(dummy_features)} features\")\n",
    "print(f\"State-action pair: {FEATURE_DIM} features\")\n",
    "\n",
    "device = torch.device(\"cuda\" if torch.cuda.is_available() else \"cpu\")\n",
    "model = QNetwork(input_dim=FEATURE_DIM).to(device)\n",
    "\n",
    "checkpoint = torch.load(MODEL_PATH, map_location=device)\n",
    "model.load_state_dict(checkpoint['model_state_dict'])\n",
    "model.eval()\n",
    "scaler = checkpoint['scaler']\n",
    "\n",
    "print(f\"\\nModel loaded! Using {device}\")"
   ],
   "outputs": [],
   "execution_count": null
  },
  {
   "cell_type": "code",
   "metadata": {},
   "source": [
    "# Game functions\n",
    "def get_q_value(state_list, move, player):\n",
    "    _, curr_feats = feature_gen.convolution_feature_gen(state_list)\n",
    "    next_state = [col[:] for col in state_list]\n",
    "    next_state[move].append(player)\n",
    "    _, next_feats = feature_gen.convolution_feature_gen(next_state)\n",
    "    \n",
    "    features = np.concatenate([curr_feats, next_feats])\n",
    "    scaled = scaler.transform([features])\n",
    "    \n",
    "    with torch.no_grad():\n",
    "        return model(torch.FloatTensor(scaled).to(device)).item()\n",
    "\n",
    "def get_ai_move(state_list):\n",
    "    valid = [c for c in range(7) if len(state_list[c]) < 6]\n",
    "    best_col = valid[0]\n",
    "    best_q = -float('inf')\n",
    "    \n",
    "    for col in valid:\n",
    "        q = -get_q_value(state_list, col, -1)  # Negate for AI perspective\n",
    "        if q > best_q:\n",
    "            best_q = q\n",
    "            best_col = col\n",
    "    \n",
    "    return best_col, best_q"
   ],
   "outputs": [],
   "execution_count": null
  },
  {
   "cell_type": "code",
   "metadata": {},
   "source": [
    "# Initialize game\n",
    "board = BoardProcessor()\n",
    "moves = []\n",
    "print(\"Game started! You are X, AI is O\")\n",
    "print(\"Columns: 0 1 2 3 4 5 6\\n\")\n",
    "for _ in range(6):\n",
    "    print(\". . . . . . .\")"
   ],
   "outputs": [],
   "execution_count": null
  },
  {
   "cell_type": "code",
   "metadata": {},
   "source": [
    "def play(column):\n",
    "    \"\"\"Make a move in the specified column\"\"\"\n",
    "    global moves, board\n",
    "    \n",
    "    # Validate move\n",
    "    valid = [c for c in range(7) if len(board.state_list[c]) < 6]\n",
    "    if column not in valid:\n",
    "        print(f\"Invalid! Choose from: {valid}\")\n",
    "        return\n",
    "    \n",
    "    # Human move\n",
    "    moves.append(column)\n",
    "    board.generate_state_list(moves)\n",
    "    print(f\"\\nYou played column {column}:\")\n",
    "    board.display_board()\n",
    "    \n",
    "    # AI move\n",
    "    ai_col, q = get_ai_move(board.state_list)\n",
    "    moves.append(ai_col)\n",
    "    board.generate_state_list(moves)\n",
    "    print(f\"\\nAI played column {ai_col} (Q={q:.3f}):\")\n",
    "    board.display_board()\n",
    "\n",
    "# To play: run play(3) to drop in column 3"
   ],
   "outputs": [],
   "execution_count": null
  },
  {
   "metadata": {},
   "cell_type": "code",
   "source": "play(6)",
   "outputs": [],
   "execution_count": null
  },
  {
   "cell_type": "code",
   "metadata": {},
   "source": [
    "# Analyze current position\n",
    "def analyze():\n",
    "    print(\"Q-values for your moves:\")\n",
    "    valid = [c for c in range(7) if len(board.state_list[c]) < 6]\n",
    "    for col in valid:\n",
    "        q = get_q_value(board.state_list, col, 1)\n",
    "        print(f\"  Column {col}: {q:.4f}\")"
   ],
   "outputs": [],
   "execution_count": null
  }
 ],
 "metadata": {
  "kernelspec": {
   "display_name": "Python 3",
   "language": "python",
   "name": "python3"
  }
 },
 "nbformat": 4,
 "nbformat_minor": 4
}
