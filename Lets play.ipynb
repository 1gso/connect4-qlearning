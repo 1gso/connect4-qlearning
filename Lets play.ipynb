{
 "cells": [
  {
   "cell_type": "markdown",
   "metadata": {},
   "source": [
    "# Connect 4 vs Q-Network (PyCharm Version)\n",
    "No input() calls - designed for PyCharm notebooks"
   ]
  },
  {
   "cell_type": "code",
   "metadata": {
    "ExecuteTime": {
     "end_time": "2025-08-08T02:26:42.069679Z",
     "start_time": "2025-08-08T02:26:38.137544Z"
    }
   },
   "source": [
    "import torch\n",
    "import torch.nn as nn\n",
    "import numpy as np\n",
    "from board_processor import BoardProcessor\n",
    "from feature_generator import FeatureGenerator\n",
    "from typing import Optional, List"
   ],
   "outputs": [],
   "execution_count": 1
  },
  {
   "cell_type": "code",
   "metadata": {
    "ExecuteTime": {
     "end_time": "2025-08-08T02:26:42.241942Z",
     "start_time": "2025-08-08T02:26:42.237150Z"
    }
   },
   "source": [
    "class QNetwork(nn.Module):\n",
    "    def __init__(self, input_dim, hidden_sizes=(256, 128, 64, 32, 16, 8)):\n",
    "        super().__init__()\n",
    "        layers = []\n",
    "        last_dim = input_dim\n",
    "        for h in hidden_sizes:\n",
    "            layers.append(nn.Linear(last_dim, h))\n",
    "            layers.append(nn.Tanh())\n",
    "            last_dim = h\n",
    "        layers.append(nn.Linear(last_dim, 1))\n",
    "        layers.append(nn.Tanh())\n",
    "        self.net = nn.Sequential(*layers)\n",
    "    \n",
    "    def forward(self, x):\n",
    "        return self.net(x).squeeze(-1)"
   ],
   "outputs": [],
   "execution_count": 2
  },
  {
   "cell_type": "code",
   "metadata": {
    "ExecuteTime": {
     "end_time": "2025-08-08T02:26:42.396743Z",
     "start_time": "2025-08-08T02:26:42.253520Z"
    }
   },
   "source": [
    "# Load model\n",
    "MODEL_PATH = \"qnet_mc_pretrained.pth\"\n",
    "feature_gen = FeatureGenerator()\n",
    "\n",
    "# Calculate dimensions\n",
    "_, dummy_features = feature_gen.convolution_feature_gen([[] for _ in range(7)])\n",
    "FEATURE_DIM = len(dummy_features) * 2  # State-action pairs\n",
    "\n",
    "print(f\"Single state: {len(dummy_features)} features\")\n",
    "print(f\"State-action pair: {FEATURE_DIM} features\")\n",
    "\n",
    "device = torch.device(\"cuda\" if torch.cuda.is_available() else \"cpu\")\n",
    "model = QNetwork(input_dim=FEATURE_DIM).to(device)\n",
    "\n",
    "checkpoint = torch.load(MODEL_PATH, map_location=device)\n",
    "model.load_state_dict(checkpoint['model_state_dict'])\n",
    "model.eval()\n",
    "scaler = checkpoint['scaler']\n",
    "\n",
    "print(f\"\\nModel loaded! Using {device}\")"
   ],
   "outputs": [
    {
     "name": "stdout",
     "output_type": "stream",
     "text": [
      "Single state: 69 features\n",
      "State-action pair: 138 features\n",
      "\n",
      "Model loaded! Using cpu\n"
     ]
    }
   ],
   "execution_count": 3
  },
  {
   "metadata": {
    "ExecuteTime": {
     "end_time": "2025-08-08T02:26:42.431919Z",
     "start_time": "2025-08-08T02:26:42.427940Z"
    }
   },
   "cell_type": "code",
   "source": [
    "board: Optional[BoardProcessor] = None\n",
    "moves: Optional[List[int]] = None"
   ],
   "outputs": [],
   "execution_count": 4
  },
  {
   "metadata": {
    "ExecuteTime": {
     "end_time": "2025-08-08T02:26:42.466315Z",
     "start_time": "2025-08-08T02:26:42.458797Z"
    }
   },
   "cell_type": "code",
   "source": [
    "def init_game(ai_moves_first=False):\n",
    "    # global board, moves\n",
    "    print(f\"New game! {'AI' if ai_moves_first else 'You'} play{'s' if ai_moves_first else ''} first.\")\n",
    "    print(\"Columns: 0 1 2 3 4 5 6\\n\")\n",
    "\n",
    "    if ai_moves_first:\n",
    "        # AI makes first move as player 1\n",
    "        ai_col, q, _ = get_ai_move(board.state_list, ai_player=1, epsilon=0.1)\n",
    "        moves.append(ai_col)\n",
    "        board.generate_state_list(moves)\n",
    "        print(f\"AI starts with column {ai_col} (Q={q:.3f}):\")\n",
    "        display_colored()\n",
    "    else:\n",
    "        # Show empty board\n",
    "        for _ in range(6):\n",
    "            print(\". . . . . . .\")"
   ],
   "outputs": [],
   "execution_count": 5
  },
  {
   "metadata": {
    "ExecuteTime": {
     "end_time": "2025-08-08T02:26:42.502825Z",
     "start_time": "2025-08-08T02:26:42.498336Z"
    }
   },
   "cell_type": "code",
   "source": [
    "def restart():\n",
    "    global board, moves\n",
    "    \"\"\"Initialize a new game\"\"\"\n",
    "    board = BoardProcessor()\n",
    "    moves = []\n",
    "    # init_game(ai_moves_first=False)"
   ],
   "outputs": [],
   "execution_count": 6
  },
  {
   "metadata": {
    "ExecuteTime": {
     "end_time": "2025-08-08T02:26:42.539221Z",
     "start_time": "2025-08-08T02:26:42.535659Z"
    }
   },
   "cell_type": "code",
   "source": [
    "def check_win(state_list):\n",
    "   \"\"\"Check for win using convolution features. Returns 1, -1, or 0\"\"\"\n",
    "   _, features = feature_gen.convolution_feature_gen(state_list)\n",
    "   if 4 in features:\n",
    "       return 1\n",
    "   elif -4 in features:\n",
    "       return -1\n",
    "   return 0"
   ],
   "outputs": [],
   "execution_count": 7
  },
  {
   "metadata": {
    "ExecuteTime": {
     "end_time": "2025-08-08T02:26:42.573381Z",
     "start_time": "2025-08-08T02:26:42.570205Z"
    }
   },
   "cell_type": "code",
   "source": [
    "\n",
    "# Color codes for Yellow-Green-Blue gradient (7 colors)\n",
    "COLORS = [\n",
    "    '\\033[93m',   # Yellow (worst)\n",
    "    '\\033[33m',   # Orange-yellow\n",
    "    '\\033[32m',   # Yellow-green\n",
    "    '\\033[92m',   # Green\n",
    "    '\\033[36m',   # Green-cyan\n",
    "    '\\033[96m',   # Cyan\n",
    "    '\\033[94m',   # Blue (best)\n",
    "]\n",
    "RED = '\\033[91m'\n",
    "YELLOW = '\\033[93m'\n",
    "RESET = '\\033[0m'"
   ],
   "outputs": [],
   "execution_count": 8
  },
  {
   "metadata": {
    "ExecuteTime": {
     "end_time": "2025-08-08T02:26:42.607350Z",
     "start_time": "2025-08-08T02:26:42.602167Z"
    }
   },
   "cell_type": "code",
   "source": [
    "def get_q_value(state_list, move, player):\n",
    "    _, curr_feats = feature_gen.convolution_feature_gen(state_list)\n",
    "    next_state = [col[:] for col in state_list]\n",
    "    next_state[move].append(player)\n",
    "    _, next_feats = feature_gen.convolution_feature_gen(next_state)\n",
    "\n",
    "    features = np.concatenate([curr_feats, next_feats])\n",
    "    scaled = scaler.transform([features])\n",
    "\n",
    "    with torch.no_grad():\n",
    "        return model(torch.FloatTensor(scaled).to(device)).item()"
   ],
   "outputs": [],
   "execution_count": 9
  },
  {
   "metadata": {
    "ExecuteTime": {
     "end_time": "2025-08-08T02:26:42.642182Z",
     "start_time": "2025-08-08T02:26:42.636941Z"
    }
   },
   "cell_type": "code",
   "source": [
    "\n",
    "def get_ai_move(state_list, epsilon=0.1, ai_player = -1):\n",
    "    \"\"\"\n",
    "    Select AI move using epsilon-greedy strategy.\n",
    "    Returns: (selected_column, best_q_value, q_values_dict)\n",
    "    \"\"\"\n",
    "    valid = [c for c in range(7) if len(state_list[c]) < 6]\n",
    "    q_values = {}\n",
    "\n",
    "    # Calculate Q-values for all valid moves\n",
    "    for col in valid:\n",
    "        q = get_q_value(state_list, col, ai_player) * ai_player # Negate for AI perspective\n",
    "        q_values[col] = q\n",
    "\n",
    "    # Epsilon-greedy selection (structured for easy modification)\n",
    "    if np.random.random() < epsilon:\n",
    "        # Exploration: random move\n",
    "        selected_col = np.random.choice(valid)\n",
    "    else:\n",
    "        # Exploitation: best move\n",
    "        selected_col = max(q_values.keys(), key=lambda k: q_values[k])\n",
    "\n",
    "    best_q = q_values[selected_col]\n",
    "    return selected_col, best_q, q_values"
   ],
   "outputs": [],
   "execution_count": 10
  },
  {
   "metadata": {
    "ExecuteTime": {
     "end_time": "2025-08-08T02:26:42.682907Z",
     "start_time": "2025-08-08T02:26:42.673239Z"
    }
   },
   "cell_type": "code",
   "source": [
    "\n",
    "def display_colored(q_values=None):\n",
    "    \"\"\"Display colored board with Q-value indicators for empty spots\"\"\"\n",
    "    if not board.board_history:\n",
    "        print(\"[Board is empty]\")\n",
    "        return\n",
    "\n",
    "    board_matrix = board.board_history[-1]\n",
    "\n",
    "    # Map Q-values to colors if provided\n",
    "    color_map = {}\n",
    "    if q_values:\n",
    "        valid_cols = list(q_values.keys())\n",
    "        if valid_cols:\n",
    "            # Sort columns by Q-value\n",
    "            sorted_cols = sorted(valid_cols, key=lambda d: q_values[d])\n",
    "            # Assign colors based on ranking\n",
    "            for i, col in enumerate(sorted_cols):\n",
    "                color_idx = int(i * (len(COLORS) - 1) / max(1, len(sorted_cols) - 1))\n",
    "                color_map[col] = COLORS[color_idx]\n",
    "\n",
    "    # Print board\n",
    "    for r in range(5, -1, -1):\n",
    "        row_parts = []\n",
    "        for c in range(7):\n",
    "            if board_matrix[r, c] == 1:\n",
    "                row_parts.append(f\"{RED}X{RESET}\")\n",
    "            elif board_matrix[r, c] == -1:\n",
    "                row_parts.append(f\"{YELLOW}O{RESET}\")\n",
    "            elif c in color_map:\n",
    "                # Empty spot with Q-value color\n",
    "                row_parts.append(f\"{color_map[c]}•{RESET}\")\n",
    "            else:\n",
    "                # Empty spot with no valid move\n",
    "                row_parts.append(\".\")\n",
    "        print(\" \".join(row_parts))"
   ],
   "outputs": [],
   "execution_count": 11
  },
  {
   "metadata": {
    "ExecuteTime": {
     "end_time": "2025-08-08T02:26:42.718241Z",
     "start_time": "2025-08-08T02:26:42.708785Z"
    }
   },
   "cell_type": "code",
   "source": [
    "def check_game_over():\n",
    "    \"\"\"Check for win/draw. Returns (is_over, message)\"\"\"\n",
    "    winner = check_win(board.state_list)\n",
    "    if winner == 1:\n",
    "        return True, f\"\\n🎉 {RED}YOU WIN!{RESET} 🎉\\nGame code: {board.moves_code()}\"\n",
    "    elif winner == -1:\n",
    "        return True, f\"\\n🤖 {YELLOW}AI WINS!{RESET}\\nGame code: {board.moves_code()}\"\n",
    "    elif len(moves) >= 42:\n",
    "        return True, f\"\\n🤝 DRAW!\\nGame code: {board.moves_code()}\"\n",
    "    return False, None\n",
    "\n",
    "def play(column):\n",
    "    \"\"\"Make a move in the specified column\"\"\"\n",
    "    global moves, board\n",
    "    move_num = len (moves)\n",
    "    ai_player = -((move_num % 2) * 2 - 1)\n",
    "    # Validate move\n",
    "    valid = [c for c in range(7) if len(board.state_list[c]) < 6]\n",
    "    if column not in valid:\n",
    "        print(f\"Invalid! Choose from: {valid}\")\n",
    "        return\n",
    "\n",
    "    # Human move\n",
    "    moves.append(column)\n",
    "    board.generate_state_list(moves)\n",
    "    print(f\"\\nYou played column {column}:\")\n",
    "\n",
    "    # Get AI's evaluation before showing board\n",
    "    _, _, q_values = get_ai_move(board.state_list, epsilon=0.0, ai_player=ai_player)  # No exploration for display\n",
    "    display_colored(q_values)\n",
    "\n",
    "    # Check for win\n",
    "    game_over, message = check_game_over()\n",
    "    if game_over:\n",
    "        print(message)\n",
    "        return\n",
    "\n",
    "    # AI move (with exploration)\n",
    "    ai_col, q, _ = get_ai_move(board.state_list, epsilon=0.0, ai_player=ai_player)\n",
    "    moves.append(ai_col)\n",
    "    board.generate_state_list(moves)\n",
    "    print(f\"\\nAI played column {ai_col} (Q={q:.3f}):\")\n",
    "    display_colored()  # No Q-values shown after AI moves\n",
    "\n",
    "    # Check for AI win\n",
    "    game_over, message = check_game_over()\n",
    "    if game_over:\n",
    "        print(message)\n",
    "        return\n",
    "\n",
    "    # Show valid moves\n",
    "    valid = [c for c in range(7) if len(board.state_list[c]) < 6]\n",
    "    if valid:\n",
    "        print(f\"\\nYour turn. Valid moves: {valid}\")"
   ],
   "outputs": [],
   "execution_count": 12
  },
  {
   "metadata": {
    "ExecuteTime": {
     "end_time": "2025-08-08T02:26:42.750541Z",
     "start_time": "2025-08-08T02:26:42.745948Z"
    }
   },
   "cell_type": "code",
   "source": "restart()",
   "outputs": [],
   "execution_count": 13
  },
  {
   "metadata": {
    "ExecuteTime": {
     "end_time": "2025-08-08T02:26:42.796069Z",
     "start_time": "2025-08-08T02:26:42.779756Z"
    }
   },
   "cell_type": "code",
   "source": "init_game(True)",
   "outputs": [
    {
     "name": "stdout",
     "output_type": "stream",
     "text": [
      "New game! AI plays first.\n",
      "Columns: 0 1 2 3 4 5 6\n",
      "\n",
      "AI starts with column 3 (Q=0.052):\n",
      ". . . . . . .\n",
      ". . . . . . .\n",
      ". . . . . . .\n",
      ". . . . . . .\n",
      ". . . . . . .\n",
      ". . . \u001B[91mX\u001B[0m . . .\n"
     ]
    }
   ],
   "execution_count": 14
  },
  {
   "metadata": {
    "ExecuteTime": {
     "end_time": "2025-08-08T02:26:42.855851Z",
     "start_time": "2025-08-08T02:26:42.834011Z"
    }
   },
   "cell_type": "code",
   "source": "play(6)",
   "outputs": [
    {
     "name": "stdout",
     "output_type": "stream",
     "text": [
      "\n",
      "You played column 6:\n",
      "\u001B[33m•\u001B[0m \u001B[36m•\u001B[0m \u001B[96m•\u001B[0m \u001B[94m•\u001B[0m \u001B[92m•\u001B[0m \u001B[93m•\u001B[0m \u001B[32m•\u001B[0m\n",
      "\u001B[33m•\u001B[0m \u001B[36m•\u001B[0m \u001B[96m•\u001B[0m \u001B[94m•\u001B[0m \u001B[92m•\u001B[0m \u001B[93m•\u001B[0m \u001B[32m•\u001B[0m\n",
      "\u001B[33m•\u001B[0m \u001B[36m•\u001B[0m \u001B[96m•\u001B[0m \u001B[94m•\u001B[0m \u001B[92m•\u001B[0m \u001B[93m•\u001B[0m \u001B[32m•\u001B[0m\n",
      "\u001B[33m•\u001B[0m \u001B[36m•\u001B[0m \u001B[96m•\u001B[0m \u001B[94m•\u001B[0m \u001B[92m•\u001B[0m \u001B[93m•\u001B[0m \u001B[32m•\u001B[0m\n",
      "\u001B[33m•\u001B[0m \u001B[36m•\u001B[0m \u001B[96m•\u001B[0m \u001B[94m•\u001B[0m \u001B[92m•\u001B[0m \u001B[93m•\u001B[0m \u001B[32m•\u001B[0m\n",
      "\u001B[33m•\u001B[0m \u001B[36m•\u001B[0m \u001B[96m•\u001B[0m \u001B[91mX\u001B[0m \u001B[92m•\u001B[0m \u001B[93m•\u001B[0m \u001B[93mO\u001B[0m\n",
      "\n",
      "AI played column 3 (Q=0.105):\n",
      ". . . . . . .\n",
      ". . . . . . .\n",
      ". . . . . . .\n",
      ". . . . . . .\n",
      ". . . \u001B[91mX\u001B[0m . . .\n",
      ". . . \u001B[91mX\u001B[0m . . \u001B[93mO\u001B[0m\n",
      "\n",
      "Your turn. Valid moves: [0, 1, 2, 3, 4, 5, 6]\n"
     ]
    }
   ],
   "execution_count": 15
  },
  {
   "metadata": {
    "ExecuteTime": {
     "end_time": "2025-08-08T02:26:42.905282Z",
     "start_time": "2025-08-08T02:26:42.884956Z"
    }
   },
   "cell_type": "code",
   "source": "play(5)",
   "outputs": [
    {
     "name": "stdout",
     "output_type": "stream",
     "text": [
      "\n",
      "You played column 5:\n",
      "\u001B[33m•\u001B[0m \u001B[32m•\u001B[0m \u001B[92m•\u001B[0m \u001B[96m•\u001B[0m \u001B[93m•\u001B[0m \u001B[94m•\u001B[0m \u001B[36m•\u001B[0m\n",
      "\u001B[33m•\u001B[0m \u001B[32m•\u001B[0m \u001B[92m•\u001B[0m \u001B[96m•\u001B[0m \u001B[93m•\u001B[0m \u001B[94m•\u001B[0m \u001B[36m•\u001B[0m\n",
      "\u001B[33m•\u001B[0m \u001B[32m•\u001B[0m \u001B[92m•\u001B[0m \u001B[96m•\u001B[0m \u001B[93m•\u001B[0m \u001B[94m•\u001B[0m \u001B[36m•\u001B[0m\n",
      "\u001B[33m•\u001B[0m \u001B[32m•\u001B[0m \u001B[92m•\u001B[0m \u001B[96m•\u001B[0m \u001B[93m•\u001B[0m \u001B[94m•\u001B[0m \u001B[36m•\u001B[0m\n",
      "\u001B[33m•\u001B[0m \u001B[32m•\u001B[0m \u001B[92m•\u001B[0m \u001B[91mX\u001B[0m \u001B[93m•\u001B[0m \u001B[94m•\u001B[0m \u001B[36m•\u001B[0m\n",
      "\u001B[33m•\u001B[0m \u001B[32m•\u001B[0m \u001B[92m•\u001B[0m \u001B[91mX\u001B[0m \u001B[93m•\u001B[0m \u001B[93mO\u001B[0m \u001B[93mO\u001B[0m\n",
      "\n",
      "AI played column 5 (Q=0.009):\n",
      ". . . . . . .\n",
      ". . . . . . .\n",
      ". . . . . . .\n",
      ". . . . . . .\n",
      ". . . \u001B[91mX\u001B[0m . \u001B[91mX\u001B[0m .\n",
      ". . . \u001B[91mX\u001B[0m . \u001B[93mO\u001B[0m \u001B[93mO\u001B[0m\n",
      "\n",
      "Your turn. Valid moves: [0, 1, 2, 3, 4, 5, 6]\n"
     ]
    }
   ],
   "execution_count": 16
  },
  {
   "metadata": {
    "ExecuteTime": {
     "end_time": "2025-08-08T02:26:42.960343Z",
     "start_time": "2025-08-08T02:26:42.934792Z"
    }
   },
   "cell_type": "code",
   "source": "play(5)",
   "outputs": [
    {
     "name": "stdout",
     "output_type": "stream",
     "text": [
      "\n",
      "You played column 5:\n",
      "\u001B[32m•\u001B[0m \u001B[36m•\u001B[0m \u001B[92m•\u001B[0m \u001B[94m•\u001B[0m \u001B[33m•\u001B[0m \u001B[93m•\u001B[0m \u001B[96m•\u001B[0m\n",
      "\u001B[32m•\u001B[0m \u001B[36m•\u001B[0m \u001B[92m•\u001B[0m \u001B[94m•\u001B[0m \u001B[33m•\u001B[0m \u001B[93m•\u001B[0m \u001B[96m•\u001B[0m\n",
      "\u001B[32m•\u001B[0m \u001B[36m•\u001B[0m \u001B[92m•\u001B[0m \u001B[94m•\u001B[0m \u001B[33m•\u001B[0m \u001B[93m•\u001B[0m \u001B[96m•\u001B[0m\n",
      "\u001B[32m•\u001B[0m \u001B[36m•\u001B[0m \u001B[92m•\u001B[0m \u001B[94m•\u001B[0m \u001B[33m•\u001B[0m \u001B[93mO\u001B[0m \u001B[96m•\u001B[0m\n",
      "\u001B[32m•\u001B[0m \u001B[36m•\u001B[0m \u001B[92m•\u001B[0m \u001B[91mX\u001B[0m \u001B[33m•\u001B[0m \u001B[91mX\u001B[0m \u001B[96m•\u001B[0m\n",
      "\u001B[32m•\u001B[0m \u001B[36m•\u001B[0m \u001B[92m•\u001B[0m \u001B[91mX\u001B[0m \u001B[33m•\u001B[0m \u001B[93mO\u001B[0m \u001B[93mO\u001B[0m\n",
      "\n",
      "AI played column 3 (Q=-0.039):\n",
      ". . . . . . .\n",
      ". . . . . . .\n",
      ". . . . . . .\n",
      ". . . \u001B[91mX\u001B[0m . \u001B[93mO\u001B[0m .\n",
      ". . . \u001B[91mX\u001B[0m . \u001B[91mX\u001B[0m .\n",
      ". . . \u001B[91mX\u001B[0m . \u001B[93mO\u001B[0m \u001B[93mO\u001B[0m\n",
      "\n",
      "Your turn. Valid moves: [0, 1, 2, 3, 4, 5, 6]\n"
     ]
    }
   ],
   "execution_count": 17
  },
  {
   "metadata": {
    "ExecuteTime": {
     "end_time": "2025-08-08T02:26:43.001108Z",
     "start_time": "2025-08-08T02:26:42.996368Z"
    }
   },
   "cell_type": "code",
   "source": "",
   "outputs": [],
   "execution_count": null
  }
 ],
 "metadata": {
  "kernelspec": {
   "display_name": "Python 3",
   "language": "python",
   "name": "python3"
  }
 },
 "nbformat": 4,
 "nbformat_minor": 4
}
