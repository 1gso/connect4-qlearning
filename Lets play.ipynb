{
 "cells": [
  {
   "cell_type": "markdown",
   "metadata": {},
   "source": [
    "# Connect 4 vs Q-Network (PyCharm Version)\n",
    "No input() calls - designed for PyCharm notebooks"
   ]
  },
  {
   "cell_type": "code",
   "metadata": {},
   "source": [
    "import torch\n",
    "import torch.nn as nn\n",
    "import numpy as np\n",
    "from board_processor import BoardProcessor\n",
    "from feature_generator import FeatureGenerator\n",
    "from typing import Optional, List"
   ],
   "outputs": [],
   "execution_count": null
  },
  {
   "metadata": {},
   "cell_type": "code",
   "source": [
    "#One very important check - do we have a scaler or not?\n",
    "checkpoint = torch.load(\"qnet_mc_pretrained.pth\", map_location='cpu')\n",
    "print(\"Keys in checkpoint:\", checkpoint.keys())\n",
    "\n",
    "# If it's just a state_dict (not a dictionary with multiple items):\n",
    "if not isinstance(checkpoint, dict) or 'model_state_dict' not in checkpoint:\n",
    "    print(\"WARNING: Model saved without scaler!\")\n",
    "    print(\"You need to retrain and save properly!\")"
   ],
   "outputs": [],
   "execution_count": null
  },
  {
   "metadata": {},
   "cell_type": "code",
   "source": [
    "# Check the scaler is valid:\n",
    "checkpoint = torch.load(\"qnet_mc_pretrained.pth\", map_location='cpu')\n",
    "scaler = checkpoint['scaler']\n",
    "\n",
    "print(f\"Scaler expects {scaler.n_features_in_} features\")\n",
    "print(f\"Feature means (first 5): {scaler.mean_[:5]}\")\n",
    "print(f\"Feature stds (first 5): {scaler.scale_[:5]}\")\n",
    "\n",
    "# Test scaling:\n",
    "test_features = np.random.randn(1, scaler.n_features_in_)\n",
    "scaled = scaler.transform(test_features)\n",
    "print(f\"Test scaling works: input shape {test_features.shape} -> output shape {scaled.shape}\")"
   ],
   "outputs": [],
   "execution_count": null
  },
  {
   "cell_type": "code",
   "metadata": {},
   "source": [
    "class QNetwork(nn.Module):\n",
    "    def __init__(self, input_dim, hidden_sizes=(256, 128, 64, 32, 16, 8)):\n",
    "        super().__init__()\n",
    "        layers = []\n",
    "        last_dim = input_dim\n",
    "        for h in hidden_sizes:\n",
    "            layers.append(nn.Linear(last_dim, h))\n",
    "            layers.append(nn.Tanh())\n",
    "            last_dim = h\n",
    "        layers.append(nn.Linear(last_dim, 1))\n",
    "        layers.append(nn.Tanh())\n",
    "        self.net = nn.Sequential(*layers)\n",
    "    \n",
    "    def forward(self, x):\n",
    "        return self.net(x).squeeze(-1)"
   ],
   "outputs": [],
   "execution_count": null
  },
  {
   "cell_type": "code",
   "metadata": {},
   "source": [
    "# Load model\n",
    "MODEL_PATH = \"qnet_mc_pretrained.pth\"\n",
    "feature_gen = FeatureGenerator()\n",
    "\n",
    "# Calculate dimensions\n",
    "_, dummy_features = feature_gen.convolution_feature_gen([[] for _ in range(7)])\n",
    "FEATURE_DIM = len(dummy_features) * 2  # State-action pairs\n",
    "\n",
    "print(f\"Single state: {len(dummy_features)} features\")\n",
    "print(f\"State-action pair: {FEATURE_DIM} features\")\n",
    "\n",
    "device = torch.device(\"cuda\" if torch.cuda.is_available() else \"cpu\")\n",
    "model = QNetwork(input_dim=FEATURE_DIM).to(device)\n",
    "\n",
    "checkpoint = torch.load(MODEL_PATH, map_location=device)\n",
    "model.load_state_dict(checkpoint['model_state_dict'])\n",
    "model.eval()\n",
    "scaler = checkpoint['scaler']\n",
    "\n",
    "print(f\"\\nModel loaded! Using {device}\")"
   ],
   "outputs": [],
   "execution_count": null
  },
  {
   "metadata": {},
   "cell_type": "code",
   "source": [
    "board: Optional[BoardProcessor] = None\n",
    "moves: Optional[List[int]] = None\n",
    "ai_plays = -1"
   ],
   "outputs": [],
   "execution_count": null
  },
  {
   "metadata": {},
   "cell_type": "code",
   "source": [
    "def init_game(ai_moves_first=False):\n",
    "    global ai_plays\n",
    "    ai_plays = 1 if ai_moves_first else -1\n",
    "    # global board, moves\n",
    "    print(f\"New game! {'AI' if ai_moves_first else 'You'} play{'s' if ai_moves_first else ''} first.\")\n",
    "    print(\"Columns: 0 1 2 3 4 5 6\\n\")\n",
    "\n",
    "    if ai_moves_first:\n",
    "        # AI makes first move as player 1\n",
    "        ai_col, q, _ = get_ai_move(board.state_list, ai_player=1, epsilon=0.1)\n",
    "        moves.append(ai_col)\n",
    "        board.generate_state_list(moves)\n",
    "        print(f\"AI starts with column {ai_col} (Q={q:.3f}):\")\n",
    "        display_colored()\n",
    "    else:\n",
    "        # Show empty board\n",
    "        for _ in range(6):\n",
    "            print(\". . . . . . .\")"
   ],
   "outputs": [],
   "execution_count": null
  },
  {
   "metadata": {},
   "cell_type": "code",
   "source": [
    "def restart():\n",
    "    global board, moves\n",
    "    \"\"\"Initialize a new game\"\"\"\n",
    "    board = BoardProcessor()\n",
    "    moves = []\n",
    "    # init_game(ai_moves_first=False)"
   ],
   "outputs": [],
   "execution_count": null
  },
  {
   "metadata": {},
   "cell_type": "code",
   "source": [
    "def check_win(state_list):\n",
    "   \"\"\"Check for win using convolution features. Returns 1, -1, or 0\"\"\"\n",
    "   _, features = feature_gen.convolution_feature_gen(state_list)\n",
    "   if 4 in features:\n",
    "       return 1\n",
    "   elif -4 in features:\n",
    "       return -1\n",
    "   return 0"
   ],
   "outputs": [],
   "execution_count": null
  },
  {
   "metadata": {},
   "cell_type": "code",
   "source": [
    "\n",
    "# Color codes for Yellow-Green-Blue gradient (7 colors)\n",
    "COLORS = [\n",
    "    '\\033[93m',   # Yellow (worst)\n",
    "    '\\033[33m',   # Orange-yellow\n",
    "    '\\033[32m',   # Yellow-green\n",
    "    '\\033[92m',   # Green\n",
    "    '\\033[36m',   # Green-cyan\n",
    "    '\\033[96m',   # Cyan\n",
    "    '\\033[94m',   # Blue (best)\n",
    "]\n",
    "RED = '\\033[91m'\n",
    "YELLOW = '\\033[93m'\n",
    "RESET = '\\033[0m'"
   ],
   "outputs": [],
   "execution_count": null
  },
  {
   "metadata": {},
   "cell_type": "code",
   "source": [
    "def get_q_value(state_list, move, player):\n",
    "    _, curr_feats = feature_gen.convolution_feature_gen(state_list)\n",
    "    next_state = [col[:] for col in state_list]\n",
    "    next_state[move].append(player)\n",
    "    _, next_feats = feature_gen.convolution_feature_gen(next_state)\n",
    "\n",
    "    features = np.concatenate([curr_feats, next_feats])\n",
    "    scaled = scaler.transform([features])\n",
    "\n",
    "    with torch.no_grad():\n",
    "        return model(torch.FloatTensor(scaled).to(device)).item()"
   ],
   "outputs": [],
   "execution_count": null
  },
  {
   "metadata": {},
   "cell_type": "code",
   "source": [
    "\n",
    "def get_ai_move(state_list, epsilon=0.1, ai_player = -1):\n",
    "    \"\"\"\n",
    "    Select AI move using epsilon-greedy strategy.\n",
    "    Returns: (selected_column, best_q_value, q_values_dict)\n",
    "    \"\"\"\n",
    "    valid = [c for c in range(7) if len(state_list[c]) < 6]\n",
    "    q_values = {}\n",
    "\n",
    "    # Calculate Q-values for all valid moves\n",
    "    for col in valid:\n",
    "        q = get_q_value(state_list, col, ai_player) * ai_player # Negate for AI perspective\n",
    "        q_values[col] = q\n",
    "\n",
    "    # Epsilon-greedy selection (structured for easy modification)\n",
    "    if np.random.random() < epsilon:\n",
    "        # Exploration: random move\n",
    "        selected_col = int(np.random.choice(valid))\n",
    "    else:\n",
    "        # Exploitation: best move\n",
    "        selected_col = max(q_values.keys(), key=lambda k: q_values[k])\n",
    "\n",
    "    best_q = q_values[selected_col]\n",
    "    return selected_col, best_q, q_values"
   ],
   "outputs": [],
   "execution_count": null
  },
  {
   "metadata": {},
   "cell_type": "code",
   "source": [
    "def rollback_moves(n):\n",
    "    \"\"\"Go back n moves\"\"\"\n",
    "    global moves  # Important!\n",
    "\n",
    "    if n >= len(moves):\n",
    "        # Go to empty board\n",
    "        moves = []\n",
    "        board.generate_state_list([])\n",
    "    else:\n",
    "        # Keep first (total - n) moves\n",
    "        moves = moves[:-n]\n",
    "        board.generate_state_list(moves)\n",
    "\n",
    "    print(f\"Rolled back {n} moves. Current position has {len(moves)} moves.\")"
   ],
   "outputs": [],
   "execution_count": null
  },
  {
   "metadata": {},
   "cell_type": "code",
   "source": [
    "\n",
    "def display_colored(q_values=None):\n",
    "    \"\"\"Display colored board with Q-value indicators for empty spots\"\"\"\n",
    "    if not board.board_history:\n",
    "        print(\"[Board is empty]\")\n",
    "        return\n",
    "\n",
    "    board_matrix = board.board_history[-1]\n",
    "\n",
    "    # Map Q-values to colors if provided\n",
    "    color_map = {}\n",
    "    if q_values:\n",
    "        valid_cols = list(q_values.keys())\n",
    "        if valid_cols:\n",
    "            # Sort columns by Q-value\n",
    "            sorted_cols = sorted(valid_cols, key=lambda d: q_values[d])\n",
    "            # Assign colors based on ranking\n",
    "            for i, col in enumerate(sorted_cols):\n",
    "                color_idx = int(i * (len(COLORS) - 1) / max(1, len(sorted_cols) - 1))\n",
    "                color_map[col] = COLORS[color_idx]\n",
    "\n",
    "    # Print board\n",
    "    for r in range(5, -1, -1):\n",
    "        row_parts = []\n",
    "        for c in range(7):\n",
    "            if board_matrix[r, c] == 1:\n",
    "                row_parts.append(f\"{RED}X{RESET}\")\n",
    "            elif board_matrix[r, c] == -1:\n",
    "                row_parts.append(f\"{YELLOW}O{RESET}\")\n",
    "            elif c in color_map:\n",
    "                # Empty spot with Q-value color\n",
    "                row_parts.append(f\"{color_map[c]}•{RESET}\")\n",
    "            else:\n",
    "                # Empty spot with no valid move\n",
    "                row_parts.append(\".\")\n",
    "        print(\" \".join(row_parts))"
   ],
   "outputs": [],
   "execution_count": null
  },
  {
   "metadata": {},
   "cell_type": "code",
   "source": [
    "def check_game_over():\n",
    "    \"\"\"Check for win/draw. Returns (is_over, message)\"\"\"\n",
    "    winner = check_win(board.state_list)\n",
    "    if winner == -ai_plays:\n",
    "        return True, f\"\\n🎉 {RED}YOU WIN!{RESET} 🎉\\nGame code: {board.moves_code()}\"\n",
    "    elif winner == ai_plays:\n",
    "        return True, f\"\\n🤖 {YELLOW}AI WINS!{RESET}\\nGame code: {board.moves_code()}\"\n",
    "    elif len(moves) >= 42:\n",
    "        return True, f\"\\n🤝 DRAW!\\nGame code: {board.moves_code()}\"\n",
    "    return False, None\n",
    "\n",
    "def self_play():\n",
    "    \"\"\"Now let's have the same AI play against iself with epsilon\"\"\"\n",
    "    global moves, board\n",
    "    move_num = len (moves)\n",
    "    this_player = -((move_num % 2) * 2 - 1)\n",
    "    ai_col, q, q_values = get_ai_move(board.state_list, epsilon = 0.0, ai_player = this_player)\n",
    "    # display_colored(q_values)\n",
    "    moves.append(ai_col)\n",
    "    board.generate_state_list(moves)\n",
    "    display_colored(q_values)  # No Q-values shown after AI moves\n",
    "    game_over, message = check_game_over()\n",
    "    if game_over:\n",
    "        print(message)\n",
    "        return\n",
    "\n",
    "def play(column):\n",
    "    \"\"\"Make a move in the specified column\"\"\"\n",
    "    global moves, board\n",
    "    move_num = len (moves)\n",
    "    other_player = -((move_num % 2) * 2 - 1)\n",
    "    # Validate move\n",
    "    valid = [c for c in range(7) if len(board.state_list[c]) < 6]\n",
    "    if column not in valid:\n",
    "        print(f\"Invalid! Choose from: {valid}\")\n",
    "        return\n",
    "\n",
    "    # Human move\n",
    "    moves.append(column)\n",
    "    board.generate_state_list(moves)\n",
    "    print(f\"\\nYou played column {column}:\")\n",
    "\n",
    "    # Check for win\n",
    "    game_over, message = check_game_over()\n",
    "    if game_over:\n",
    "        display_colored()\n",
    "        print(message)\n",
    "        return\n",
    "\n",
    "    # Get AI's evaluation before showing board\n",
    "    ai_col, q, q_values = get_ai_move(board.state_list, epsilon=0.0, ai_player=other_player)\n",
    "    display_colored(q_values)\n",
    "\n",
    "\n",
    "    # AI move (without epsilon exploration)\n",
    "    # ai_col, q, _ = get_ai_move(board.state_list, epsilon=0.0, ai_player=other_player)\n",
    "    moves.append(ai_col)\n",
    "    board.generate_state_list(moves)\n",
    "    print(f\"\\nAI played column {ai_col} (Q={q:.3f}):\")\n",
    "    display_colored()  # No Q-values shown after AI moves\n",
    "\n",
    "    # Check for AI win\n",
    "    game_over, message = check_game_over()\n",
    "    if game_over:\n",
    "        print(message)\n",
    "        return\n",
    "\n",
    "    # Show valid moves\n",
    "    valid = [c for c in range(7) if len(board.state_list[c]) < 6]\n",
    "    if valid:\n",
    "        print(f\"\\nYour turn. Valid moves: {valid}\")"
   ],
   "outputs": [],
   "execution_count": null
  },
  {
   "metadata": {},
   "cell_type": "code",
   "source": "restart()",
   "outputs": [],
   "execution_count": null
  },
  {
   "metadata": {},
   "cell_type": "code",
   "source": [
    "# If we are playing AI against itself then it must be\n",
    "self_play()"
   ],
   "outputs": [],
   "execution_count": null
  },
  {
   "metadata": {},
   "cell_type": "code",
   "source": [
    "#Else initiate the game\n",
    "init_game(False)"
   ],
   "outputs": [],
   "execution_count": null
  },
  {
   "metadata": {},
   "cell_type": "code",
   "source": "play(5)",
   "outputs": [],
   "execution_count": null
  },
  {
   "metadata": {},
   "cell_type": "code",
   "source": [
    "rollback_moves(1)\n",
    "display_colored()"
   ],
   "outputs": [],
   "execution_count": null
  },
  {
   "metadata": {},
   "cell_type": "code",
   "source": "board.move_sequence = board.move_sequence[:-2:]",
   "outputs": [],
   "execution_count": null
  },
  {
   "metadata": {},
   "cell_type": "code",
   "source": "board.state_list",
   "outputs": [],
   "execution_count": null
  },
  {
   "metadata": {},
   "cell_type": "code",
   "source": "nives = board.move_sequence[:-10:]",
   "outputs": [],
   "execution_count": null
  },
  {
   "metadata": {},
   "cell_type": "code",
   "source": "board.generate_state_list(board.move_sequence[:-10])",
   "outputs": [],
   "execution_count": null
  },
  {
   "metadata": {},
   "cell_type": "code",
   "source": "nives",
   "outputs": [],
   "execution_count": null
  },
  {
   "metadata": {},
   "cell_type": "code",
   "source": "len(nives)",
   "outputs": [],
   "execution_count": null
  },
  {
   "metadata": {},
   "cell_type": "code",
   "source": "len(board.move_sequence)",
   "outputs": [],
   "execution_count": null
  },
  {
   "metadata": {},
   "cell_type": "code",
   "source": "",
   "outputs": [],
   "execution_count": null
  }
 ],
 "metadata": {
  "kernelspec": {
   "display_name": "Python 3",
   "language": "python",
   "name": "python3"
  }
 },
 "nbformat": 4,
 "nbformat_minor": 4
}
